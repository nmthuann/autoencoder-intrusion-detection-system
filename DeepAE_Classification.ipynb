{
 "cells": [
  {
   "cell_type": "code",
   "execution_count": 1,
   "id": "f0b96f46",
   "metadata": {},
   "outputs": [],
   "source": [
    "from sklearn.metrics import accuracy_score # for calculating accuracy of model\n",
    "from sklearn.model_selection import train_test_split # for splitting the dataset for training and testing\n",
    "from sklearn.metrics import classification_report # for generating a classification report of model\n",
    "import pickle # saving and loading trained model\n",
    "from os import path\n",
    "import numpy as np\n",
    "import pandas as pd\n",
    "import matplotlib.pyplot as plt"
   ]
  },
  {
   "cell_type": "code",
   "execution_count": 2,
   "id": "f038a017",
   "metadata": {},
   "outputs": [],
   "source": [
    "multi_data = pd.read_csv('C:\\\\Users\\\\LENOVO\\\\OneDrive\\\\Máy tính\\\\DocumentFolder\\\\multi_data.csv') # đọc file đã tiền xử lý\n",
    "multi_data.drop(multi_data.columns[0],axis=1,inplace=True)\n",
    "categorical_label_classes = np.load('C:\\\\Users\\\\LENOVO\\\\OneDrive\\\\Máy tính\\\\DocumentFolder\\\\categorical_label_classes.npy',allow_pickle=True) "
   ]
  },
  {
   "cell_type": "code",
   "execution_count": 3,
   "id": "168767bf",
   "metadata": {},
   "outputs": [],
   "source": [
    "# Auto Encoder Classifier (Multi-class Classification)"
   ]
  },
  {
   "cell_type": "code",
   "execution_count": 4,
   "id": "4b2aa256",
   "metadata": {},
   "outputs": [],
   "source": [
    "# splitting the dataset 75% for training and 25% testing\n",
    "X_train, X_test = train_test_split(multi_data, test_size=0.25, random_state=42)"
   ]
  },
  {
   "cell_type": "code",
   "execution_count": 5,
   "id": "b83b78e5",
   "metadata": {},
   "outputs": [],
   "source": [
    "# dataset excluding target attribute (encoded, one-hot-encoded,original)\n",
    "X_train = X_train.drop(['intrusion','Dos','normal','Probe','R2L','U2R','label'],axis=1)\n",
    "\n",
    "y_test = X_test['intrusion'] # target attribute\n",
    "\n",
    "# dataset excluding target attribute (encoded, one-hot-encoded,original)\n",
    "X_test = X_test.drop(['intrusion','Dos','normal','Probe','R2L','U2R','label'],axis=1)"
   ]
  },
  {
   "cell_type": "code",
   "execution_count": 6,
   "id": "6c68066b",
   "metadata": {},
   "outputs": [],
   "source": [
    "X_train = X_train.values\n",
    "X_test = X_test.values"
   ]
  },
  {
   "cell_type": "code",
   "execution_count": 7,
   "id": "445176a1",
   "metadata": {},
   "outputs": [],
   "source": [
    "y_test = y_test.values"
   ]
  },
  {
   "cell_type": "code",
   "execution_count": 12,
   "id": "1398249d",
   "metadata": {},
   "outputs": [],
   "source": [
    "from sklearn import metrics\n",
    "# from sklearn.metrics import accuracy_score # for calculating accuracy of model\n",
    "# from sklearn.model_selection import train_test_split # for splitting the dataset for training and testing\n",
    "# from sklearn.metrics import classification_report # for generating a classification report of model\n",
    "# from sklearn.metrics import precision_score\n",
    "# from sklearn.metrics import recall_score\n",
    "# from sklearn.metrics import f1_score\n",
    "\n",
    "from keras.layers import Dense # importing dense layer\n",
    "from keras.models import Sequential #importing Sequential layer\n",
    "from keras.models import model_from_json # saving and loading trained model\n",
    "\n",
    "from keras.layers import Input\n",
    "from keras.models import Model\n",
    "\n",
    "# representation of model layers\n",
    "from keras.utils.vis_utils import plot_model\n",
    "\n",
    "# input theo chiều của dataset\n",
    "input_shape = X_train.shape[1]\n",
    "encoding_neuron = 50 # h là 50 neuron"
   ]
  },
  {
   "cell_type": "code",
   "execution_count": 13,
   "id": "a9fd70df",
   "metadata": {},
   "outputs": [],
   "source": [
    "# cấu hình cho model deep Autoencoder classification\n",
    "#input layer\n",
    "input_layer = Input(shape=(input_shape, ))\n",
    "#encoding layer with 50 neurons\n",
    "encoder = Dense(encoding_neuron, activation=\"relu\")(input_layer)         \n",
    "#decoding and output layer\n",
    "output_layer = Dense(input_shape, activation='softmax')(encoder)"
   ]
  },
  {
   "cell_type": "code",
   "execution_count": 14,
   "id": "801f4cc3",
   "metadata": {},
   "outputs": [],
   "source": [
    "# creating model with input, encoding, decoding, output layers\n",
    "autoencoder = Model(inputs=input_layer, outputs=output_layer)\n",
    "\n",
    "# defining loss function, optimizer, metrics and then compiling model\n",
    "autoencoder.compile(optimizer='adam', loss='mean_squared_error',metrics=['accuracy'])"
   ]
  },
  {
   "cell_type": "code",
   "execution_count": 15,
   "id": "65c90eb8",
   "metadata": {},
   "outputs": [
    {
     "name": "stdout",
     "output_type": "stream",
     "text": [
      "Model: \"model\"\n",
      "_________________________________________________________________\n",
      " Layer (type)                Output Shape              Param #   \n",
      "=================================================================\n",
      " input_1 (InputLayer)        [(None, 93)]              0         \n",
      "                                                                 \n",
      " dense (Dense)               (None, 50)                4700      \n",
      "                                                                 \n",
      " dense_1 (Dense)             (None, 93)                4743      \n",
      "                                                                 \n",
      "=================================================================\n",
      "Total params: 9,443\n",
      "Trainable params: 9,443\n",
      "Non-trainable params: 0\n",
      "_________________________________________________________________\n"
     ]
    }
   ],
   "source": [
    "# summary of model layers\n",
    "autoencoder.summary()"
   ]
  },
  {
   "cell_type": "code",
   "execution_count": null,
   "id": "ad5e5b0e",
   "metadata": {},
   "outputs": [],
   "source": [
    "earlystopping = keras.callbacks.EarlyStopping(monitor=\"loss\", mode=\"auto\", patience=10, restore_best_weights=True)"
   ]
  },
  {
   "cell_type": "code",
   "execution_count": null,
   "id": "2f86a2b0",
   "metadata": {},
   "outputs": [],
   "source": [
    "# model.fit(train_ds,\n",
    "#             epochs=60,\n",
    "#             validation_data=validation_ds,\n",
    "#             validation_freq=1,\n",
    "#             callbacks=[tensorboard_cb, earlystopping])"
   ]
  },
  {
   "cell_type": "code",
   "execution_count": 16,
   "id": "16391737",
   "metadata": {},
   "outputs": [
    {
     "name": "stdout",
     "output_type": "stream",
     "text": [
      "Epoch 1/100\n",
      "189/189 [==============================] - 2s 6ms/step - loss: 0.1145 - accuracy: 0.2775 - val_loss: 0.1062 - val_accuracy: 0.4448\n",
      "Epoch 2/100\n",
      "189/189 [==============================] - 1s 4ms/step - loss: 0.1052 - accuracy: 0.6689 - val_loss: 0.1051 - val_accuracy: 0.7144\n",
      "Epoch 3/100\n",
      "189/189 [==============================] - 1s 5ms/step - loss: 0.1048 - accuracy: 0.7242 - val_loss: 0.1050 - val_accuracy: 0.7408\n",
      "Epoch 4/100\n",
      "189/189 [==============================] - 1s 4ms/step - loss: 0.1047 - accuracy: 0.7670 - val_loss: 0.1049 - val_accuracy: 0.7808\n",
      "Epoch 5/100\n",
      "189/189 [==============================] - 1s 4ms/step - loss: 0.1046 - accuracy: 0.7932 - val_loss: 0.1049 - val_accuracy: 0.7863\n",
      "Epoch 6/100\n",
      "189/189 [==============================] - 1s 4ms/step - loss: 0.1046 - accuracy: 0.8133 - val_loss: 0.1048 - val_accuracy: 0.8524\n",
      "Epoch 7/100\n",
      "189/189 [==============================] - 1s 4ms/step - loss: 0.1045 - accuracy: 0.8438 - val_loss: 0.1048 - val_accuracy: 0.8588\n",
      "Epoch 8/100\n",
      "189/189 [==============================] - 1s 4ms/step - loss: 0.1045 - accuracy: 0.8531 - val_loss: 0.1048 - val_accuracy: 0.8571\n",
      "Epoch 9/100\n",
      "189/189 [==============================] - 1s 5ms/step - loss: 0.1045 - accuracy: 0.8538 - val_loss: 0.1048 - val_accuracy: 0.8444\n",
      "Epoch 10/100\n",
      "189/189 [==============================] - 1s 4ms/step - loss: 0.1045 - accuracy: 0.8512 - val_loss: 0.1048 - val_accuracy: 0.8627\n",
      "Epoch 11/100\n",
      "189/189 [==============================] - 1s 4ms/step - loss: 0.1045 - accuracy: 0.8523 - val_loss: 0.1048 - val_accuracy: 0.8601\n",
      "Epoch 12/100\n",
      "189/189 [==============================] - 1s 5ms/step - loss: 0.1045 - accuracy: 0.8513 - val_loss: 0.1047 - val_accuracy: 0.8639\n",
      "Epoch 13/100\n",
      "189/189 [==============================] - 1s 6ms/step - loss: 0.1045 - accuracy: 0.8521 - val_loss: 0.1047 - val_accuracy: 0.8584\n",
      "Epoch 14/100\n",
      "189/189 [==============================] - 1s 5ms/step - loss: 0.1045 - accuracy: 0.8513 - val_loss: 0.1047 - val_accuracy: 0.8534\n",
      "Epoch 15/100\n",
      "189/189 [==============================] - 1s 4ms/step - loss: 0.1044 - accuracy: 0.8396 - val_loss: 0.1046 - val_accuracy: 0.8706\n",
      "Epoch 16/100\n",
      "189/189 [==============================] - 1s 4ms/step - loss: 0.1044 - accuracy: 0.8421 - val_loss: 0.1046 - val_accuracy: 0.8136\n",
      "Epoch 17/100\n",
      "189/189 [==============================] - 1s 4ms/step - loss: 0.1043 - accuracy: 0.8451 - val_loss: 0.1046 - val_accuracy: 0.8738\n",
      "Epoch 18/100\n",
      "189/189 [==============================] - 1s 4ms/step - loss: 0.1043 - accuracy: 0.8494 - val_loss: 0.1046 - val_accuracy: 0.8658\n",
      "Epoch 19/100\n",
      "189/189 [==============================] - 1s 4ms/step - loss: 0.1043 - accuracy: 0.8502 - val_loss: 0.1046 - val_accuracy: 0.8556\n",
      "Epoch 20/100\n",
      "189/189 [==============================] - 1s 4ms/step - loss: 0.1043 - accuracy: 0.8537 - val_loss: 0.1046 - val_accuracy: 0.8690\n",
      "Epoch 21/100\n",
      "189/189 [==============================] - 1s 4ms/step - loss: 0.1043 - accuracy: 0.8576 - val_loss: 0.1046 - val_accuracy: 0.8389\n",
      "Epoch 22/100\n",
      "189/189 [==============================] - 1s 4ms/step - loss: 0.1043 - accuracy: 0.8677 - val_loss: 0.1046 - val_accuracy: 0.8956\n",
      "Epoch 23/100\n",
      "189/189 [==============================] - 1s 5ms/step - loss: 0.1043 - accuracy: 0.8698 - val_loss: 0.1046 - val_accuracy: 0.8716\n",
      "Epoch 24/100\n",
      "189/189 [==============================] - 1s 6ms/step - loss: 0.1043 - accuracy: 0.8706 - val_loss: 0.1046 - val_accuracy: 0.8672\n",
      "Epoch 25/100\n",
      "189/189 [==============================] - 1s 4ms/step - loss: 0.1043 - accuracy: 0.8680 - val_loss: 0.1046 - val_accuracy: 0.8990\n",
      "Epoch 26/100\n",
      "189/189 [==============================] - 1s 4ms/step - loss: 0.1043 - accuracy: 0.8683 - val_loss: 0.1046 - val_accuracy: 0.8177\n",
      "Epoch 27/100\n",
      "189/189 [==============================] - 1s 4ms/step - loss: 0.1043 - accuracy: 0.8694 - val_loss: 0.1046 - val_accuracy: 0.8468\n",
      "Epoch 28/100\n",
      "189/189 [==============================] - 1s 4ms/step - loss: 0.1043 - accuracy: 0.8733 - val_loss: 0.1046 - val_accuracy: 0.8984\n",
      "Epoch 29/100\n",
      "189/189 [==============================] - 1s 4ms/step - loss: 0.1043 - accuracy: 0.8708 - val_loss: 0.1046 - val_accuracy: 0.8424\n",
      "Epoch 30/100\n",
      "189/189 [==============================] - 1s 4ms/step - loss: 0.1043 - accuracy: 0.8738 - val_loss: 0.1046 - val_accuracy: 0.8829\n",
      "Epoch 31/100\n",
      "189/189 [==============================] - 1s 4ms/step - loss: 0.1043 - accuracy: 0.8731 - val_loss: 0.1046 - val_accuracy: 0.9127\n",
      "Epoch 32/100\n",
      "189/189 [==============================] - 1s 4ms/step - loss: 0.1043 - accuracy: 0.8753 - val_loss: 0.1046 - val_accuracy: 0.8732\n",
      "Epoch 33/100\n",
      "189/189 [==============================] - 1s 4ms/step - loss: 0.1043 - accuracy: 0.8726 - val_loss: 0.1046 - val_accuracy: 0.8406\n",
      "Epoch 34/100\n",
      "189/189 [==============================] - 1s 4ms/step - loss: 0.1043 - accuracy: 0.8749 - val_loss: 0.1046 - val_accuracy: 0.8387\n",
      "Epoch 35/100\n",
      "189/189 [==============================] - 1s 4ms/step - loss: 0.1043 - accuracy: 0.8738 - val_loss: 0.1046 - val_accuracy: 0.8649\n",
      "Epoch 36/100\n",
      "189/189 [==============================] - 1s 5ms/step - loss: 0.1043 - accuracy: 0.8762 - val_loss: 0.1046 - val_accuracy: 0.8396\n",
      "Epoch 37/100\n",
      "189/189 [==============================] - 1s 4ms/step - loss: 0.1043 - accuracy: 0.8761 - val_loss: 0.1046 - val_accuracy: 0.8899\n",
      "Epoch 38/100\n",
      "189/189 [==============================] - 1s 4ms/step - loss: 0.1043 - accuracy: 0.8732 - val_loss: 0.1046 - val_accuracy: 0.8746\n",
      "Epoch 39/100\n",
      "189/189 [==============================] - 1s 4ms/step - loss: 0.1043 - accuracy: 0.8743 - val_loss: 0.1046 - val_accuracy: 0.8480\n",
      "Epoch 40/100\n",
      "189/189 [==============================] - 1s 5ms/step - loss: 0.1043 - accuracy: 0.8793 - val_loss: 0.1046 - val_accuracy: 0.9148\n",
      "Epoch 41/100\n",
      "189/189 [==============================] - 1s 4ms/step - loss: 0.1043 - accuracy: 0.8791 - val_loss: 0.1046 - val_accuracy: 0.8782\n",
      "Epoch 42/100\n",
      "189/189 [==============================] - 1s 4ms/step - loss: 0.1043 - accuracy: 0.8823 - val_loss: 0.1046 - val_accuracy: 0.9193\n",
      "Epoch 43/100\n",
      "189/189 [==============================] - 1s 5ms/step - loss: 0.1043 - accuracy: 0.8834 - val_loss: 0.1046 - val_accuracy: 0.8663\n",
      "Epoch 44/100\n",
      "189/189 [==============================] - 1s 6ms/step - loss: 0.1043 - accuracy: 0.8827 - val_loss: 0.1045 - val_accuracy: 0.8856\n",
      "Epoch 45/100\n",
      "189/189 [==============================] - 1s 6ms/step - loss: 0.1043 - accuracy: 0.8866 - val_loss: 0.1045 - val_accuracy: 0.9066\n",
      "Epoch 46/100\n",
      "189/189 [==============================] - 1s 7ms/step - loss: 0.1043 - accuracy: 0.8856 - val_loss: 0.1045 - val_accuracy: 0.8986\n",
      "Epoch 47/100\n",
      "189/189 [==============================] - 1s 5ms/step - loss: 0.1043 - accuracy: 0.8871 - val_loss: 0.1045 - val_accuracy: 0.9136\n",
      "Epoch 48/100\n",
      "189/189 [==============================] - 1s 5ms/step - loss: 0.1043 - accuracy: 0.8888 - val_loss: 0.1045 - val_accuracy: 0.8639\n",
      "Epoch 49/100\n",
      "189/189 [==============================] - 1s 7ms/step - loss: 0.1043 - accuracy: 0.8876 - val_loss: 0.1045 - val_accuracy: 0.8671\n",
      "Epoch 50/100\n",
      "189/189 [==============================] - 1s 6ms/step - loss: 0.1043 - accuracy: 0.8902 - val_loss: 0.1045 - val_accuracy: 0.8801\n",
      "Epoch 51/100\n",
      "189/189 [==============================] - 1s 6ms/step - loss: 0.1043 - accuracy: 0.8921 - val_loss: 0.1045 - val_accuracy: 0.8903\n",
      "Epoch 52/100\n",
      "189/189 [==============================] - 1s 5ms/step - loss: 0.1043 - accuracy: 0.8942 - val_loss: 0.1045 - val_accuracy: 0.8657\n",
      "Epoch 53/100\n",
      "189/189 [==============================] - 1s 5ms/step - loss: 0.1043 - accuracy: 0.8918 - val_loss: 0.1045 - val_accuracy: 0.9174\n",
      "Epoch 54/100\n",
      "189/189 [==============================] - 1s 5ms/step - loss: 0.1043 - accuracy: 0.8934 - val_loss: 0.1045 - val_accuracy: 0.8869\n",
      "Epoch 55/100\n",
      "189/189 [==============================] - 1s 5ms/step - loss: 0.1043 - accuracy: 0.8915 - val_loss: 0.1045 - val_accuracy: 0.8697\n",
      "Epoch 56/100\n",
      "189/189 [==============================] - 1s 5ms/step - loss: 0.1043 - accuracy: 0.8951 - val_loss: 0.1045 - val_accuracy: 0.9063\n",
      "Epoch 57/100\n",
      "189/189 [==============================] - 1s 5ms/step - loss: 0.1043 - accuracy: 0.8967 - val_loss: 0.1045 - val_accuracy: 0.8895\n"
     ]
    },
    {
     "name": "stdout",
     "output_type": "stream",
     "text": [
      "Epoch 58/100\n",
      "189/189 [==============================] - 1s 5ms/step - loss: 0.1043 - accuracy: 0.8971 - val_loss: 0.1045 - val_accuracy: 0.8959\n",
      "Epoch 59/100\n",
      "189/189 [==============================] - 1s 5ms/step - loss: 0.1043 - accuracy: 0.8967 - val_loss: 0.1045 - val_accuracy: 0.9118\n",
      "Epoch 60/100\n",
      "189/189 [==============================] - 1s 5ms/step - loss: 0.1043 - accuracy: 0.8981 - val_loss: 0.1045 - val_accuracy: 0.9060\n",
      "Epoch 61/100\n",
      "189/189 [==============================] - 1s 5ms/step - loss: 0.1043 - accuracy: 0.8983 - val_loss: 0.1045 - val_accuracy: 0.9245\n",
      "Epoch 62/100\n",
      "189/189 [==============================] - 1s 5ms/step - loss: 0.1043 - accuracy: 0.8997 - val_loss: 0.1045 - val_accuracy: 0.8985\n",
      "Epoch 63/100\n",
      "189/189 [==============================] - 1s 5ms/step - loss: 0.1043 - accuracy: 0.8997 - val_loss: 0.1045 - val_accuracy: 0.9347\n",
      "Epoch 64/100\n",
      "189/189 [==============================] - 1s 5ms/step - loss: 0.1043 - accuracy: 0.9015 - val_loss: 0.1045 - val_accuracy: 0.9254\n",
      "Epoch 65/100\n",
      "189/189 [==============================] - 1s 5ms/step - loss: 0.1043 - accuracy: 0.9017 - val_loss: 0.1045 - val_accuracy: 0.8861\n",
      "Epoch 66/100\n",
      "189/189 [==============================] - 1s 5ms/step - loss: 0.1043 - accuracy: 0.9006 - val_loss: 0.1045 - val_accuracy: 0.8844\n",
      "Epoch 67/100\n",
      "189/189 [==============================] - 1s 5ms/step - loss: 0.1043 - accuracy: 0.9019 - val_loss: 0.1045 - val_accuracy: 0.9162\n",
      "Epoch 68/100\n",
      "189/189 [==============================] - 1s 5ms/step - loss: 0.1043 - accuracy: 0.9018 - val_loss: 0.1045 - val_accuracy: 0.8780\n",
      "Epoch 69/100\n",
      "189/189 [==============================] - 1s 5ms/step - loss: 0.1043 - accuracy: 0.9012 - val_loss: 0.1045 - val_accuracy: 0.8621\n",
      "Epoch 70/100\n",
      "189/189 [==============================] - 1s 5ms/step - loss: 0.1043 - accuracy: 0.9009 - val_loss: 0.1045 - val_accuracy: 0.8809\n",
      "Epoch 71/100\n",
      "189/189 [==============================] - 1s 5ms/step - loss: 0.1043 - accuracy: 0.9023 - val_loss: 0.1045 - val_accuracy: 0.9405\n",
      "Epoch 72/100\n",
      "189/189 [==============================] - 1s 5ms/step - loss: 0.1043 - accuracy: 0.9023 - val_loss: 0.1045 - val_accuracy: 0.8882\n",
      "Epoch 73/100\n",
      "189/189 [==============================] - 1s 5ms/step - loss: 0.1043 - accuracy: 0.9030 - val_loss: 0.1045 - val_accuracy: 0.8796\n",
      "Epoch 74/100\n",
      "189/189 [==============================] - 1s 5ms/step - loss: 0.1043 - accuracy: 0.9029 - val_loss: 0.1045 - val_accuracy: 0.9357\n",
      "Epoch 75/100\n",
      "189/189 [==============================] - 1s 5ms/step - loss: 0.1043 - accuracy: 0.9038 - val_loss: 0.1045 - val_accuracy: 0.9368\n",
      "Epoch 76/100\n",
      "189/189 [==============================] - 1s 5ms/step - loss: 0.1043 - accuracy: 0.9020 - val_loss: 0.1045 - val_accuracy: 0.8919\n",
      "Epoch 77/100\n",
      "189/189 [==============================] - 1s 5ms/step - loss: 0.1043 - accuracy: 0.9030 - val_loss: 0.1045 - val_accuracy: 0.9139\n",
      "Epoch 78/100\n",
      "189/189 [==============================] - 1s 5ms/step - loss: 0.1043 - accuracy: 0.9046 - val_loss: 0.1045 - val_accuracy: 0.9028\n",
      "Epoch 79/100\n",
      "189/189 [==============================] - 1s 5ms/step - loss: 0.1043 - accuracy: 0.9038 - val_loss: 0.1045 - val_accuracy: 0.9243\n",
      "Epoch 80/100\n",
      "189/189 [==============================] - 1s 6ms/step - loss: 0.1043 - accuracy: 0.9042 - val_loss: 0.1045 - val_accuracy: 0.9005\n",
      "Epoch 81/100\n",
      "189/189 [==============================] - 1s 5ms/step - loss: 0.1043 - accuracy: 0.9037 - val_loss: 0.1045 - val_accuracy: 0.8683\n",
      "Epoch 82/100\n",
      "189/189 [==============================] - 1s 5ms/step - loss: 0.1043 - accuracy: 0.9025 - val_loss: 0.1045 - val_accuracy: 0.9448\n",
      "Epoch 83/100\n",
      "189/189 [==============================] - 1s 5ms/step - loss: 0.1043 - accuracy: 0.9044 - val_loss: 0.1045 - val_accuracy: 0.9258\n",
      "Epoch 84/100\n",
      "189/189 [==============================] - 1s 5ms/step - loss: 0.1043 - accuracy: 0.9060 - val_loss: 0.1045 - val_accuracy: 0.9043\n",
      "Epoch 85/100\n",
      "189/189 [==============================] - 1s 5ms/step - loss: 0.1043 - accuracy: 0.9034 - val_loss: 0.1045 - val_accuracy: 0.8864\n",
      "Epoch 86/100\n",
      "189/189 [==============================] - 1s 5ms/step - loss: 0.1043 - accuracy: 0.9046 - val_loss: 0.1045 - val_accuracy: 0.8884\n",
      "Epoch 87/100\n",
      "189/189 [==============================] - 1s 5ms/step - loss: 0.1043 - accuracy: 0.9036 - val_loss: 0.1045 - val_accuracy: 0.9330\n",
      "Epoch 88/100\n",
      "189/189 [==============================] - 1s 6ms/step - loss: 0.1043 - accuracy: 0.9032 - val_loss: 0.1045 - val_accuracy: 0.8720\n",
      "Epoch 89/100\n",
      "189/189 [==============================] - 1s 5ms/step - loss: 0.1043 - accuracy: 0.9025 - val_loss: 0.1045 - val_accuracy: 0.8949\n",
      "Epoch 90/100\n",
      "189/189 [==============================] - 1s 5ms/step - loss: 0.1043 - accuracy: 0.9049 - val_loss: 0.1045 - val_accuracy: 0.8870\n",
      "Epoch 91/100\n",
      "189/189 [==============================] - 1s 6ms/step - loss: 0.1043 - accuracy: 0.9034 - val_loss: 0.1045 - val_accuracy: 0.9263\n",
      "Epoch 92/100\n",
      "189/189 [==============================] - 1s 5ms/step - loss: 0.1043 - accuracy: 0.9041 - val_loss: 0.1045 - val_accuracy: 0.8982\n",
      "Epoch 93/100\n",
      "189/189 [==============================] - 1s 5ms/step - loss: 0.1043 - accuracy: 0.9040 - val_loss: 0.1045 - val_accuracy: 0.8728\n",
      "Epoch 94/100\n",
      "189/189 [==============================] - 1s 5ms/step - loss: 0.1043 - accuracy: 0.9048 - val_loss: 0.1045 - val_accuracy: 0.8845\n",
      "Epoch 95/100\n",
      "189/189 [==============================] - 1s 5ms/step - loss: 0.1043 - accuracy: 0.9040 - val_loss: 0.1045 - val_accuracy: 0.9086\n",
      "Epoch 96/100\n",
      "189/189 [==============================] - 1s 5ms/step - loss: 0.1043 - accuracy: 0.9047 - val_loss: 0.1045 - val_accuracy: 0.9307\n",
      "Epoch 97/100\n",
      "189/189 [==============================] - 1s 5ms/step - loss: 0.1043 - accuracy: 0.9036 - val_loss: 0.1045 - val_accuracy: 0.9028\n",
      "Epoch 98/100\n",
      "189/189 [==============================] - 1s 6ms/step - loss: 0.1043 - accuracy: 0.9046 - val_loss: 0.1045 - val_accuracy: 0.8780\n",
      "Epoch 99/100\n",
      "189/189 [==============================] - 1s 6ms/step - loss: 0.1043 - accuracy: 0.9050 - val_loss: 0.1045 - val_accuracy: 0.9159\n",
      "Epoch 100/100\n",
      "189/189 [==============================] - 1s 5ms/step - loss: 0.1043 - accuracy: 0.9036 - val_loss: 0.1045 - val_accuracy: 0.9140\n"
     ]
    }
   ],
   "source": [
    "# training the model on training dataset\n",
    "history_train = autoencoder.fit(X_train, X_train, epochs=100,batch_size=500,validation_data=(X_test, X_test)).history"
   ]
  },
  {
   "cell_type": "code",
   "execution_count": 17,
   "id": "c20a8516",
   "metadata": {},
   "outputs": [],
   "source": [
    "filepath = 'C:\\\\Users\\\\LENOVO\\\\OneDrive\\\\Máy tính\\\\DocumentFolder\\\\ae_multi.json'\n",
    "weightspath = 'C:\\\\Users\\\\LENOVO\\\\OneDrive\\\\Máy tính\\\\DocumentFolder\\\\ae_multi.h5'\n",
    "if (not path.isfile(filepath)):  \n",
    "  # serialize model to JSON\n",
    "  autoencoder_json = autoencoder.to_json()\n",
    "  with open(filepath, \"w\") as json_file:\n",
    "    json_file.write(autoencoder_json)\n",
    "\n",
    "  # serialize weights to HDF5\n",
    "  autoencoder.save_weights(weightspath)\n",
    "  print(\"Saved model to disk\")\n",
    "\n",
    "  # load json and create model\n",
    "  json_file = open(filepath, 'r')\n",
    "  loaded_model_json = json_file.read()\n",
    "  json_file.close()\n",
    "  autoencoder = model_from_json(loaded_model_json)\n",
    "\n",
    "  # load weights into new model\n",
    "  autoencoder.load_weights(weightspath)\n",
    "  print(\"Loaded model from disk\")"
   ]
  },
  {
   "cell_type": "code",
   "execution_count": 18,
   "id": "9ca2d5dc",
   "metadata": {},
   "outputs": [],
   "source": [
    "from sklearn.metrics import accuracy_score # for calculating accuracy of model\n",
    "from sklearn.model_selection import train_test_split # for splitting the dataset for training and testing\n",
    "from sklearn.metrics import classification_report # for generating a classification report of model\n",
    "from sklearn.metrics import precision_score\n",
    "from sklearn.metrics import recall_score\n",
    "from sklearn.metrics import f1_score\n"
   ]
  },
  {
   "cell_type": "code",
   "execution_count": 19,
   "id": "c96b5cc7",
   "metadata": {},
   "outputs": [],
   "source": [
    "# defining loss function, optimizer, metrics and then compiling model\n",
    "autoencoder.compile(optimizer='adam', loss='mean_squared_error',metrics=['accuracy'])"
   ]
  },
  {
   "cell_type": "code",
   "execution_count": 20,
   "id": "47c87d6f",
   "metadata": {},
   "outputs": [
    {
     "name": "stdout",
     "output_type": "stream",
     "text": [
      "985/985 [==============================] - 3s 3ms/step - loss: 0.1045 - accuracy: 0.9140\n",
      "Test results - Loss: 0.10454366356134415 - Accuracy: 91.39518737792969%\n"
     ]
    }
   ],
   "source": [
    "# predicting target attribute on testing dataset\n",
    "test_results = autoencoder.evaluate(X_test, X_test, verbose=1)\n",
    "print(f'Test results - Loss: {test_results[0]} - Accuracy: {test_results[1]*100}%')"
   ]
  },
  {
   "cell_type": "code",
   "execution_count": 19,
   "id": "471a17bb",
   "metadata": {},
   "outputs": [
    {
     "name": "stdout",
     "output_type": "stream",
     "text": [
      "You must install pydot (`pip install pydot`) and install graphviz (see instructions at https://graphviz.gitlab.io/download/) for plot_model to work.\n"
     ]
    }
   ],
   "source": [
    "# Các chỉ số phân loại không thể xử lý kết hợp các mục tiêu nhiều lớp và nhiều mục tiêu liên tục\n",
    "# representation of model layers\n",
    "plot_model(autoencoder, to_file='C:\\\\Users\\\\LENOVO\\\\OneDrive\\\\Máy tính\\\\DocumentFolder\\\\ae_classifier_multi.png', show_shapes=True)"
   ]
  },
  {
   "cell_type": "code",
   "execution_count": 21,
   "id": "531d2852",
   "metadata": {},
   "outputs": [
    {
     "name": "stdout",
     "output_type": "stream",
     "text": [
      "Collecting pydot\n",
      "  Using cached pydot-1.4.2-py2.py3-none-any.whl (21 kB)\n",
      "Requirement already satisfied: pyparsing>=2.1.4 in c:\\users\\lenovo\\anaconda3\\lib\\site-packages (from pydot) (3.0.4)\n",
      "Installing collected packages: pydot\n",
      "Successfully installed pydot-1.4.2\n",
      "Note: you may need to restart the kernel to use updated packages.\n"
     ]
    }
   ],
   "source": [
    "pip install pydot"
   ]
  },
  {
   "cell_type": "code",
   "execution_count": 22,
   "id": "7756aad9",
   "metadata": {},
   "outputs": [
    {
     "data": {
      "image/png": "[encoded data removed]",
      "text/plain": [
       "<Figure size 432x288 with 1 Axes>"
      ]
     },
     "metadata": {
      "needs_background": "light"
     },
     "output_type": "display_data"
    }
   ],
   "source": [
    "# Plot of loss vs epoch of train and test dataset\n",
    "plt.plot(history_train['loss'])\n",
    "plt.plot(history_train['val_loss'])\n",
    "plt.title(\"Plot of loss vs epoch for train and test dataset\")\n",
    "plt.ylabel('loss')\n",
    "plt.xlabel('epoch')\n",
    "plt.legend(['train', 'test'], loc='upper right')\n",
    "plt.savefig('C:\\\\Users\\\\LENOVO\\\\OneDrive\\\\Máy tính\\\\DocumentFolder\\\\ae_multi_loss.png')\n",
    "plt.show()"
   ]
  },
  {
   "cell_type": "code",
   "execution_count": 23,
   "id": "6156a672",
   "metadata": {},
   "outputs": [
    {
     "data": {
      "image/png": "[encoded data removed]",
      "text/plain": [
       "<Figure size 432x288 with 1 Axes>"
      ]
     },
     "metadata": {
      "needs_background": "light"
     },
     "output_type": "display_data"
    }
   ],
   "source": [
    "# Plot of loss vs epoch of train and test dataset\n",
    "plt.plot(history_train['accuracy'])\n",
    "plt.plot(history_train['val_accuracy'])\n",
    "plt.title(\"Plot of accuracy vs epoch for train and test dataset\")\n",
    "plt.ylabel('accuracy')\n",
    "plt.xlabel('epoch')\n",
    "plt.legend(['train', 'test'], loc='best')\n",
    "plt.savefig('C:\\\\Users\\\\LENOVO\\\\OneDrive\\\\Máy tính\\\\DocumentFolder\\\\ae_multi_accuracy.png')\n",
    "plt.show()"
   ]
  },
  {
   "cell_type": "code",
   "execution_count": 24,
   "id": "c69bba52",
   "metadata": {},
   "outputs": [
    {
     "name": "stdout",
     "output_type": "stream",
     "text": [
      "You must install pydot (`pip install pydot`) and install graphviz (see instructions at https://graphviz.gitlab.io/download/) for plot_model to work.\n"
     ]
    }
   ],
   "source": [
    "# representation of model layers\n",
    "from keras.utils.vis_utils import plot_model\n",
    "plot_model(autoencoder, to_file='C:\\\\Users\\\\LENOVO\\\\OneDrive\\\\Máy tính\\\\DocumentFolder\\\\ae_multi.png', show_shapes=True)"
   ]
  },
  {
   "cell_type": "code",
   "execution_count": 25,
   "id": "8b606fae",
   "metadata": {},
   "outputs": [
    {
     "name": "stdout",
     "output_type": "stream",
     "text": [
      "Requirement already satisfied: pydot in c:\\users\\lenovo\\anaconda3\\lib\\site-packages (1.4.2)\n",
      "Requirement already satisfied: pyparsing>=2.1.4 in c:\\users\\lenovo\\anaconda3\\lib\\site-packages (from pydot) (3.0.4)\n",
      "Note: you may need to restart the kernel to use updated packages.\n"
     ]
    }
   ],
   "source": [
    "pip install pydot"
   ]
  },
  {
   "cell_type": "code",
   "execution_count": 28,
   "id": "d846ffcb",
   "metadata": {},
   "outputs": [
    {
     "data": {
      "image/png": "[encoded data removed]",
      "text/plain": [
       "<IPython.core.display.Image object>"
      ]
     },
     "execution_count": 28,
     "metadata": {},
     "output_type": "execute_result"
    }
   ],
   "source": [
    "# representation of model layers\n",
    "from keras.utils.vis_utils import plot_model\n",
    "plot_model(autoencoder, to_file='C:\\\\Users\\\\LENOVO\\\\OneDrive\\\\Máy tính\\\\DocumentFolder\\\\ae_multi.png', show_shapes=True)"
   ]
  },
  {
   "cell_type": "code",
   "execution_count": 27,
   "id": "edfa4da5",
   "metadata": {},
   "outputs": [
    {
     "name": "stdout",
     "output_type": "stream",
     "text": [
      "Collecting package metadata (current_repodata.json): ...working... done\n",
      "Solving environment: ...working... done\n",
      "\n",
      "## Package Plan ##\n",
      "\n",
      "  environment location: C:\\Users\\LENOVO\\anaconda3\n",
      "\n",
      "  added / updated specs:\n",
      "    - pydot\n",
      "\n",
      "\n",
      "The following packages will be downloaded:\n",
      "\n",
      "    package                    |            build\n",
      "    ---------------------------|-----------------\n",
      "    cairo-1.16.0               |       he04af86_2         1.5 MB\n",
      "    conda-22.11.1              |   py39haa95532_4         892 KB\n",
      "    expat-2.4.9                |       h6c2663c_0         207 KB\n",
      "    fribidi-1.0.10             |       h62dcd97_0          63 KB\n",
      "    getopt-win32-0.1           |       h2bbff1b_0          19 KB\n",
      "    graphite2-1.3.14           |       hd77b12b_1          91 KB\n",
      "    graphviz-2.50.0            |       hdb8b0d4_0         903 KB\n",
      "    gts-0.7.6                  |       h63ab5a1_3         181 KB\n",
      "    harfbuzz-4.3.0             |       hda2c7e1_0         676 KB\n",
      "    libffi-3.4.2               |       hd77b12b_6         109 KB\n",
      "    libgd-2.3.3                |       ha43c60c_1         314 KB\n",
      "    pango-1.50.7               |       h78c2152_0         279 KB\n",
      "    pixman-0.40.0              |       h2bbff1b_1         402 KB\n",
      "    pydot-1.4.1                |   py39haa95532_0          43 KB\n",
      "    ruamel.yaml-0.17.21        |   py39h2bbff1b_0         174 KB\n",
      "    ruamel.yaml.clib-0.2.6     |   py39h2bbff1b_1         101 KB\n",
      "    ------------------------------------------------------------\n",
      "                                           Total:         5.9 MB\n",
      "\n",
      "The following NEW packages will be INSTALLED:\n",
      "\n",
      "  cairo              pkgs/main/win-64::cairo-1.16.0-he04af86_2 None\n",
      "  expat              pkgs/main/win-64::expat-2.4.9-h6c2663c_0 None\n",
      "  fribidi            pkgs/main/win-64::fribidi-1.0.10-h62dcd97_0 None\n",
      "  getopt-win32       pkgs/main/win-64::getopt-win32-0.1-h2bbff1b_0 None\n",
      "  glib               pkgs/main/win-64::glib-2.69.1-h5dc1a3c_1 None\n",
      "  graphite2          pkgs/main/win-64::graphite2-1.3.14-hd77b12b_1 None\n",
      "  graphviz           pkgs/main/win-64::graphviz-2.50.0-hdb8b0d4_0 None\n",
      "  gts                pkgs/main/win-64::gts-0.7.6-h63ab5a1_3 None\n",
      "  harfbuzz           pkgs/main/win-64::harfbuzz-4.3.0-hda2c7e1_0 None\n",
      "  libffi             pkgs/main/win-64::libffi-3.4.2-hd77b12b_6 None\n",
      "  libgd              pkgs/main/win-64::libgd-2.3.3-ha43c60c_1 None\n",
      "  pango              pkgs/main/win-64::pango-1.50.7-h78c2152_0 None\n",
      "  pcre               pkgs/main/win-64::pcre-8.45-hd77b12b_0 None\n",
      "  pixman             pkgs/main/win-64::pixman-0.40.0-h2bbff1b_1 None\n",
      "  pydot              pkgs/main/win-64::pydot-1.4.1-py39haa95532_0 None\n",
      "  ruamel.yaml        pkgs/main/win-64::ruamel.yaml-0.17.21-py39h2bbff1b_0 None\n",
      "  ruamel.yaml.clib   pkgs/main/win-64::ruamel.yaml.clib-0.2.6-py39h2bbff1b_1 None\n",
      "\n",
      "The following packages will be UPDATED:\n",
      "\n",
      "  conda              conda-forge::conda-22.9.0-py39hcbf530~ --> pkgs/main::conda-22.11.1-py39haa95532_4 None\n",
      "\n",
      "\n",
      "\n",
      "Downloading and Extracting Packages\n",
      "\n",
      "fribidi-1.0.10       | 63 KB     |            |   0% \n",
      "fribidi-1.0.10       | 63 KB     | ##5        |  25% \n",
      "fribidi-1.0.10       | 63 KB     | ########## | 100% \n",
      "fribidi-1.0.10       | 63 KB     | ########## | 100% \n",
      "\n",
      "expat-2.4.9          | 207 KB    |            |   0% \n",
      "expat-2.4.9          | 207 KB    | ####6      |  46% \n",
      "expat-2.4.9          | 207 KB    | ########## | 100% \n",
      "\n",
      "pixman-0.40.0        | 402 KB    |            |   0% \n",
      "pixman-0.40.0        | 402 KB    | 7          |   8% \n",
      "pixman-0.40.0        | 402 KB    | ########## | 100% \n",
      "pixman-0.40.0        | 402 KB    | ########## | 100% \n",
      "\n",
      "cairo-1.16.0         | 1.5 MB    |            |   0% \n",
      "cairo-1.16.0         | 1.5 MB    | #1         |  11% \n",
      "cairo-1.16.0         | 1.5 MB    | ####7      |  47% \n",
      "cairo-1.16.0         | 1.5 MB    | ########## | 100% \n",
      "cairo-1.16.0         | 1.5 MB    | ########## | 100% \n",
      "\n",
      "harfbuzz-4.3.0       | 676 KB    |            |   0% \n",
      "harfbuzz-4.3.0       | 676 KB    | ########## | 100% \n",
      "harfbuzz-4.3.0       | 676 KB    | ########## | 100% \n",
      "\n",
      "graphite2-1.3.14     | 91 KB     |            |   0% \n",
      "graphite2-1.3.14     | 91 KB     | ########## | 100% \n",
      "graphite2-1.3.14     | 91 KB     | ########## | 100% \n",
      "\n",
      "libgd-2.3.3          | 314 KB    |            |   0% \n",
      "libgd-2.3.3          | 314 KB    | ########## | 100% \n",
      "libgd-2.3.3          | 314 KB    | ########## | 100% \n",
      "\n",
      "pango-1.50.7         | 279 KB    |            |   0% \n",
      "pango-1.50.7         | 279 KB    | ########## | 100% \n",
      "pango-1.50.7         | 279 KB    | ########## | 100% \n",
      "\n",
      "getopt-win32-0.1     | 19 KB     |            |   0% \n",
      "getopt-win32-0.1     | 19 KB     | ########## | 100% \n",
      "\n",
      "ruamel.yaml.clib-0.2 | 101 KB    |            |   0% \n",
      "ruamel.yaml.clib-0.2 | 101 KB    | ########## | 100% \n",
      "ruamel.yaml.clib-0.2 | 101 KB    | ########## | 100% \n",
      "\n",
      "ruamel.yaml-0.17.21  | 174 KB    |            |   0% \n",
      "ruamel.yaml-0.17.21  | 174 KB    | ########## | 100% \n",
      "ruamel.yaml-0.17.21  | 174 KB    | ########## | 100% \n",
      "\n",
      "conda-22.11.1        | 892 KB    |            |   0% \n",
      "conda-22.11.1        | 892 KB    | ########## | 100% \n",
      "conda-22.11.1        | 892 KB    | ########## | 100% \n",
      "\n",
      "pydot-1.4.1          | 43 KB     |            |   0% \n",
      "pydot-1.4.1          | 43 KB     | ###7       |  37% \n",
      "pydot-1.4.1          | 43 KB     | ########## | 100% \n",
      "\n",
      "libffi-3.4.2         | 109 KB    |            |   0% \n",
      "libffi-3.4.2         | 109 KB    | ########## | 100% \n",
      "libffi-3.4.2         | 109 KB    | ########## | 100% \n",
      "\n",
      "gts-0.7.6            | 181 KB    |            |   0% \n",
      "gts-0.7.6            | 181 KB    | ########## | 100% \n",
      "gts-0.7.6            | 181 KB    | ########## | 100% \n",
      "\n",
      "graphviz-2.50.0      | 903 KB    |            |   0% \n",
      "graphviz-2.50.0      | 903 KB    | ########## | 100% \n",
      "graphviz-2.50.0      | 903 KB    | ########## | 100% \n",
      "Preparing transaction: ...working... done\n",
      "Verifying transaction: ...working... done\n",
      "Executing transaction: ...working... done\n",
      "Retrieving notices: ...working... done\n",
      "\n",
      "Note: you may need to restart the kernel to use updated packages.\n"
     ]
    }
   ],
   "source": [
    "conda install pydot"
   ]
  },
  {
   "cell_type": "code",
   "execution_count": 37,
   "id": "cb6944fe",
   "metadata": {
    "scrolled": false
   },
   "outputs": [
    {
     "name": "stdout",
     "output_type": "stream",
     "text": [
      "985/985 [==============================] - 1s 1ms/step\n"
     ]
    }
   ],
   "source": [
    "# calculating reconstruction error\n",
    "pred = np.argmax(predictions, axis=1)"
   ]
  },
  {
   "cell_type": "code",
   "execution_count": 45,
   "id": "5d37c305",
   "metadata": {},
   "outputs": [
    {
     "name": "stdout",
     "output_type": "stream",
     "text": [
      "985/985 [==============================] - 1s 1ms/step\n",
      "Confusion Matrix\n",
      "[[2432  165   66  112   81   26 7271  145  587  133    2   53  253  158]\n",
      " [ 464   23    7   11    0  992   88   65  707   54    3   56  157  320]\n",
      " [   0  247    1    1    0   21    2    0    2    0    0    0    0    0]\n",
      " [   0   14    0    0    0    0    0    0    0    0    0    0    0    1]\n",
      " [ 403 3929   44   75   78  521   25 9665  455  256    5   32    8 1278]\n",
      " [   0    0    0    0    0    0    0    0    0    0    0    0    0    0]\n",
      " [   0    0    0    0    0    0    0    0    0    0    0    0    0    0]\n",
      " [   0    0    0    0    0    0    0    0    0    0    0    0    0    0]\n",
      " [   0    0    0    0    0    0    0    0    0    0    0    0    0    0]\n",
      " [   0    0    0    0    0    0    0    0    0    0    0    0    0    0]\n",
      " [   0    0    0    0    0    0    0    0    0    0    0    0    0    0]\n",
      " [   0    0    0    0    0    0    0    0    0    0    0    0    0    0]\n",
      " [   0    0    0    0    0    0    0    0    0    0    0    0    0    0]\n",
      " [   0    0    0    0    0    0    0    0    0    0    0    0    0    0]]\n"
     ]
    }
   ],
   "source": [
    "# y_test_arg=np.argmax(y_test)\n",
    "Y_pred = np.argmax(autoencoder.predict(X_test),axis=1)\n",
    "print('Confusion Matrix')\n",
    "print(metrics.confusion_matrix(y_test, Y_pred))"
   ]
  },
  {
   "cell_type": "code",
   "execution_count": 46,
   "id": "987c289e",
   "metadata": {},
   "outputs": [
    {
     "name": "stdout",
     "output_type": "stream",
     "text": [
      "985/985 [==============================] - 1s 1ms/step\n"
     ]
    }
   ],
   "source": [
    "predictions = autoencoder.predict(X_test)\n",
    "for j in range(0,predictions.shape[1]):\n",
    "  for i in range(0,predictions.shape[0]):\n",
    "    predictions[i][j] = int(round(predictions[i][j]))"
   ]
  },
  {
   "cell_type": "code",
   "execution_count": 47,
   "id": "8e3bf0ec",
   "metadata": {},
   "outputs": [
    {
     "data": {
      "text/plain": [
       "array([[0., 0., 0., ..., 0., 0., 0.],\n",
       "       [0., 0., 0., ..., 0., 0., 0.],\n",
       "       [0., 0., 0., ..., 0., 0., 0.],\n",
       "       ...,\n",
       "       [0., 0., 0., ..., 0., 0., 0.],\n",
       "       [0., 0., 0., ..., 0., 0., 0.],\n",
       "       [0., 0., 0., ..., 0., 0., 0.]], dtype=float32)"
      ]
     },
     "execution_count": 47,
     "metadata": {},
     "output_type": "execute_result"
    }
   ],
   "source": [
    "predictions"
   ]
  },
  {
   "cell_type": "code",
   "execution_count": 57,
   "id": "dd580d95",
   "metadata": {},
   "outputs": [
    {
     "data": {
      "text/plain": [
       "31494"
      ]
     },
     "execution_count": 57,
     "metadata": {},
     "output_type": "execute_result"
    }
   ],
   "source": [
    "len(y_test)"
   ]
  },
  {
   "cell_type": "code",
   "execution_count": 61,
   "id": "a0acf6c3",
   "metadata": {},
   "outputs": [
    {
     "data": {
      "text/plain": [
       "31494"
      ]
     },
     "execution_count": 61,
     "metadata": {},
     "output_type": "execute_result"
    }
   ],
   "source": [
    "len(Y_pred)"
   ]
  },
  {
   "cell_type": "code",
   "execution_count": 77,
   "id": "17a60391",
   "metadata": {},
   "outputs": [
    {
     "name": "stdout",
     "output_type": "stream",
     "text": [
      "985/985 [==============================] - 6s 6ms/step\n"
     ]
    }
   ],
   "source": [
    "Y_pred = autoencoder.predict(X_test)"
   ]
  },
  {
   "cell_type": "code",
   "execution_count": 78,
   "id": "e183b47a",
   "metadata": {},
   "outputs": [
    {
     "data": {
      "text/plain": [
       "31494"
      ]
     },
     "execution_count": 78,
     "metadata": {},
     "output_type": "execute_result"
    }
   ],
   "source": [
    "len(Y_pred)"
   ]
  },
  {
   "cell_type": "code",
   "execution_count": 79,
   "id": "6b67638f",
   "metadata": {},
   "outputs": [
    {
     "data": {
      "text/plain": [
       "array([[6.8115114e-08, 3.0635906e-08, 1.5042620e-09, ..., 2.2701202e-11,\n",
       "        2.8255805e-01, 2.1794963e-11],\n",
       "       [3.1319980e-18, 3.5805307e-08, 2.4528559e-01, ..., 8.3900764e-10,\n",
       "        4.7660313e-12, 2.0092150e-09],\n",
       "       [3.0216458e-01, 2.1396818e-09, 1.7420648e-01, ..., 6.2217831e-10,\n",
       "        9.5258647e-15, 1.1726927e-09],\n",
       "       ...,\n",
       "       [4.1847661e-10, 4.8637968e-01, 1.8352612e-09, ..., 1.2474308e-09,\n",
       "        2.4384581e-01, 2.9260663e-10],\n",
       "       [3.6526335e-18, 1.4249238e-07, 8.0784147e-08, ..., 1.5182365e-10,\n",
       "        9.7111515e-06, 5.3685868e-11],\n",
       "       [5.9781310e-06, 6.3595880e-09, 2.4555305e-01, ..., 6.5775113e-10,\n",
       "        1.4941510e-15, 8.5648111e-10]], dtype=float32)"
      ]
     },
     "execution_count": 79,
     "metadata": {},
     "output_type": "execute_result"
    }
   ],
   "source": [
    "Y_pred"
   ]
  },
  {
   "cell_type": "code",
   "execution_count": 84,
   "id": "924fd5dc",
   "metadata": {},
   "outputs": [],
   "source": [
    "Y2=np.argmax(Y_pred, axis=1)"
   ]
  },
  {
   "cell_type": "code",
   "execution_count": 81,
   "id": "a8c50526",
   "metadata": {},
   "outputs": [],
   "source": [
    "# print(\"Recall Score - \",recall_score(y_test, pred_df.astype('uint8'),average='micro'))\n",
    "# print(\"F1 Score - \",f1_score(y_test, pred_df.astype('uint8'),average='micro'))\n",
    "# print(\"Precision Score - \",precision_score(y_test, pred_df.astype('uint8'),average='micro'))\n",
    "# from sklearn.metrics import accuracy_score\n",
    "# y_pred = [0, 2, 1, 3]\n",
    "# Y_pred = autoencoder.predict(X_test)\n",
    "# print(f1_score(y_test, Y_pred, average='micro'))\n",
    "# print(accuracy_score(y_test, Y_pred))"
   ]
  },
  {
   "cell_type": "code",
   "execution_count": 88,
   "id": "b751a5d7",
   "metadata": {},
   "outputs": [
    {
     "data": {
      "text/plain": [
       "(array([4, 0, 0, ..., 4, 1, 0], dtype=int64),\n",
       " array([ 5,  6,  0, ...,  1, 10,  6], dtype=int64))"
      ]
     },
     "execution_count": 88,
     "metadata": {},
     "output_type": "execute_result"
    }
   ],
   "source": [
    "y_test,Y2"
   ]
  },
  {
   "cell_type": "code",
   "execution_count": 89,
   "id": "14121c93",
   "metadata": {},
   "outputs": [
    {
     "data": {
      "text/plain": [
       "0.08045977011494253"
      ]
     },
     "execution_count": 89,
     "metadata": {},
     "output_type": "execute_result"
    }
   ],
   "source": [
    "recall_score(y_test, Y2,average='micro')"
   ]
  },
  {
   "cell_type": "code",
   "execution_count": null,
   "id": "a31a2efe",
   "metadata": {},
   "outputs": [],
   "source": []
  }
 ],
 "metadata": {
  "kernelspec": {
   "display_name": "Python 3 (ipykernel)",
   "language": "python",
   "name": "python3"
  },
  "language_info": {
   "codemirror_mode": {
    "name": "ipython",
    "version": 3
   },
   "file_extension": ".py",
   "mimetype": "text/x-python",
   "name": "python",
   "nbconvert_exporter": "python",
   "pygments_lexer": "ipython3",
   "version": "3.9.12"
  }
 },
 "nbformat": 4,
 "nbformat_minor": 5
}
